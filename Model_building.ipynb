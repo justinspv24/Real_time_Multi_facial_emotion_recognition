{
 "cells": [
  {
   "cell_type": "code",
   "execution_count": 3,
   "id": "0f598f8e",
   "metadata": {},
   "outputs": [
    {
     "data": {
      "image/png": "[encoded data removed]",
      "text/plain": [
       "<Figure size 640x480 with 1 Axes>"
      ]
     },
     "metadata": {},
     "output_type": "display_data"
    },
    {
     "name": "stdout",
     "output_type": "stream",
     "text": [
      "CPU times: total: 6.81 s\n",
      "Wall time: 1min 26s\n"
     ]
    }
   ],
   "source": [
    "%%time\n",
    "import os\n",
    "import numpy as np\n",
    "import cv2\n",
    "import torch\n",
    "import torch.nn as nn\n",
    "from torch.utils.data import Dataset, DataLoader\n",
    "import torchvision.transforms as transforms\n",
    "import matplotlib.pyplot as plt\n",
    "import torch.nn.functional as F\n",
    "from tqdm import tqdm\n",
    "\n",
    "# Define paths\n",
    "train_dir = r\"C:\\Users\\pvX\\Emotion_Project\\My_Project\\archive (2)\\train\"\n",
    "test_dir = r\"C:\\Users\\pvX\\Emotion_Project\\My_Project\\archive (2)\\test\"\n",
    "\n",
    "# Custom Dataset class\n",
    "class EmotionDataset(Dataset):\n",
    "    def __init__(self, folder, emotions, transform=None):\n",
    "        self.images = []  # List to store image data\n",
    "        self.labels = []  # List to store image labels\n",
    "        self.emotions = emotions  # Emotion labels passed as an argument\n",
    "        self.transform = transform  # Transformations to apply to the images\n",
    "        \n",
    "        # Loop through each emotion folder\n",
    "        for emotion in emotions:\n",
    "            emotion_folder = os.path.join(folder, emotion)  # Path to the emotion folder\n",
    "            label = emotions.index(emotion)  # Get the label index for the emotion\n",
    "            \n",
    "            # Loop through each image file in the emotion folder\n",
    "            for filename in os.listdir(emotion_folder):\n",
    "                img_path = os.path.join(emotion_folder, filename)  # Full path to the image file\n",
    "                img = cv2.imread(img_path, cv2.IMREAD_GRAYSCALE)  # Read the image in grayscale\n",
    "                if img is not None:\n",
    "                    img = cv2.resize(img, (48, 48))  # Resize the image to 48x48 pixels\n",
    "                    self.images.append(img)  # Add the image to the images list\n",
    "                    self.labels.append(label)  # Add the label to the labels list\n",
    "\n",
    "    def __len__(self):\n",
    "        return len(self.images)  # Return the total number of images\n",
    "\n",
    "    def __getitem__(self, idx):\n",
    "        image = self.images[idx]  # Get the image at the given index\n",
    "        label = self.labels[idx]  # Get the label at the given index\n",
    "        if self.transform:\n",
    "            image = self.transform(image)  # Apply transformations to the image\n",
    "        return image, label  # Return the transformed image and its label\n",
    "\n",
    "# Define transformations with data augmentation\n",
    "transform = transforms.Compose([\n",
    "    transforms.ToPILImage(),  # Convert the image to a PIL Image\n",
    "    transforms.RandomHorizontalFlip(),  # Randomly flip the image horizontally\n",
    "    transforms.RandomRotation(10),  # Randomly rotate the image by up to 10 degrees\n",
    "    transforms.ToTensor(),  # Convert the PIL Image to a Tensor\n",
    "    transforms.Normalize((0.5,), (0.5,))  # Normalize the image with mean=0.5 and std=0.5\n",
    "])\n",
    "\n",
    "# List of emotion labels corresponding to the folders\n",
    "emotions = [\"angry\", \"disgust\", \"fear\", \"happy\", \"neutral\", \"sad\", \"surprise\"]\n",
    "\n",
    "# Load datasets with emotions passed as an argument\n",
    "train_dataset = EmotionDataset(train_dir, emotions, transform=transform)\n",
    "test_dataset = EmotionDataset(test_dir, emotions, transform=transform)\n",
    "\n",
    "# Create data loaders\n",
    "train_loader = DataLoader(train_dataset, batch_size=32, shuffle=True)  # Shuffle the training data\n",
    "test_loader = DataLoader(test_dataset, batch_size=32, shuffle=False)  # Do not shuffle the testing data\n",
    "\n",
    "# Display a sample image\n",
    "sample_image, sample_label = train_dataset[1]  # Get the second image and label from the training dataset\n",
    "plt.imshow(sample_image.squeeze(), cmap='gray')  # Display the image in grayscale\n",
    "plt.title(f'Label: {emotions[sample_label]}')  # Set the title to the emotion label\n",
    "plt.show()  # Show the plot\n",
    "\n"
   ]
  },
  {
   "cell_type": "code",
   "execution_count": 4,
   "id": "b5e2630f",
   "metadata": {
    "scrolled": false
   },
   "outputs": [
    {
     "name": "stdout",
     "output_type": "stream",
     "text": [
      "ShallowCNN(\n",
      "  (conv1): Conv2d(1, 32, kernel_size=(3, 3), stride=(1, 1))\n",
      "  (conv2): Conv2d(32, 64, kernel_size=(3, 3), stride=(1, 1))\n",
      "  (conv3): Conv2d(64, 128, kernel_size=(3, 3), stride=(1, 1))\n",
      "  (conv4): Conv2d(128, 256, kernel_size=(3, 3), stride=(1, 1))\n",
      "  (pool): MaxPool2d(kernel_size=2, stride=2, padding=0, dilation=1, ceil_mode=False)\n",
      "  (fc1): Linear(in_features=4096, out_features=512, bias=True)\n",
      "  (fc2): Linear(in_features=512, out_features=7, bias=True)\n",
      "  (dropout): Dropout(p=0.5, inplace=False)\n",
      ")\n",
      "Using device: cpu\n"
     ]
    },
    {
     "name": "stderr",
     "output_type": "stream",
     "text": [
      "Epoch 1/120: 100%|██████████████████████████████████████████| 898/898 [06:00<00:00,  2.49batch/s, acc=29.6, loss=1.56]\n",
      "Validating: 100%|████████████████████████████████████████████████████████████████| 225/225 [00:33<00:00,  6.63batch/s]\n"
     ]
    },
    {
     "name": "stdout",
     "output_type": "stream",
     "text": [
      "Epoch [1/120], Train Loss: 1.7324, Train Accuracy: 29.55%, Test Loss: 1.5960, Test Accuracy: 39.33%\n"
     ]
    },
    {
     "name": "stderr",
     "output_type": "stream",
     "text": [
      "Epoch 2/120: 100%|██████████████████████████████████████████| 898/898 [06:16<00:00,  2.38batch/s, acc=40.1, loss=1.57]\n",
      "Validating: 100%|████████████████████████████████████████████████████████████████| 225/225 [00:32<00:00,  6.98batch/s]\n"
     ]
    },
    {
     "name": "stdout",
     "output_type": "stream",
     "text": [
      "Epoch [2/120], Train Loss: 1.5494, Train Accuracy: 40.07%, Test Loss: 1.4651, Test Accuracy: 44.04%\n"
     ]
    },
    {
     "name": "stderr",
     "output_type": "stream",
     "text": [
      "Epoch 3/120: 100%|██████████████████████████████████████████| 898/898 [06:05<00:00,  2.46batch/s, acc=44.3, loss=1.33]\n",
      "Validating: 100%|████████████████████████████████████████████████████████████████| 225/225 [00:32<00:00,  6.82batch/s]\n"
     ]
    },
    {
     "name": "stdout",
     "output_type": "stream",
     "text": [
      "Epoch [3/120], Train Loss: 1.4486, Train Accuracy: 44.34%, Test Loss: 1.3801, Test Accuracy: 47.35%\n"
     ]
    },
    {
     "name": "stderr",
     "output_type": "stream",
     "text": [
      "Epoch 4/120: 100%|██████████████████████████████████████████| 898/898 [06:09<00:00,  2.43batch/s, acc=47.5, loss=1.11]\n",
      "Validating: 100%|████████████████████████████████████████████████████████████████| 225/225 [00:32<00:00,  7.00batch/s]\n"
     ]
    },
    {
     "name": "stdout",
     "output_type": "stream",
     "text": [
      "Epoch [4/120], Train Loss: 1.3760, Train Accuracy: 47.48%, Test Loss: 1.3253, Test Accuracy: 49.51%\n"
     ]
    },
    {
     "name": "stderr",
     "output_type": "stream",
     "text": [
      "Epoch 5/120: 100%|██████████████████████████████████████████| 898/898 [06:01<00:00,  2.48batch/s, acc=49.8, loss=1.12]\n",
      "Validating: 100%|████████████████████████████████████████████████████████████████| 225/225 [00:33<00:00,  6.70batch/s]\n"
     ]
    },
    {
     "name": "stdout",
     "output_type": "stream",
     "text": [
      "Epoch [5/120], Train Loss: 1.3173, Train Accuracy: 49.79%, Test Loss: 1.2774, Test Accuracy: 50.67%\n"
     ]
    },
    {
     "name": "stderr",
     "output_type": "stream",
     "text": [
      "Epoch 6/120: 100%|██████████████████████████████████████████| 898/898 [07:17<00:00,  2.05batch/s, acc=51.8, loss=1.33]\n",
      "Validating: 100%|████████████████████████████████████████████████████████████████| 225/225 [00:36<00:00,  6.24batch/s]\n"
     ]
    },
    {
     "name": "stdout",
     "output_type": "stream",
     "text": [
      "Epoch [6/120], Train Loss: 1.2722, Train Accuracy: 51.76%, Test Loss: 1.2440, Test Accuracy: 52.24%\n"
     ]
    },
    {
     "name": "stderr",
     "output_type": "stream",
     "text": [
      "Epoch 7/120: 100%|█████████████████████████████████████████| 898/898 [07:02<00:00,  2.13batch/s, acc=53.2, loss=0.728]\n",
      "Validating: 100%|████████████████████████████████████████████████████████████████| 225/225 [00:33<00:00,  6.72batch/s]\n"
     ]
    },
    {
     "name": "stdout",
     "output_type": "stream",
     "text": [
      "Epoch [7/120], Train Loss: 1.2342, Train Accuracy: 53.17%, Test Loss: 1.2145, Test Accuracy: 53.76%\n"
     ]
    },
    {
     "name": "stderr",
     "output_type": "stream",
     "text": [
      "Epoch 8/120: 100%|██████████████████████████████████████████| 898/898 [06:31<00:00,  2.29batch/s, acc=54.9, loss=1.08]\n",
      "Validating: 100%|████████████████████████████████████████████████████████████████| 225/225 [00:34<00:00,  6.59batch/s]\n"
     ]
    },
    {
     "name": "stdout",
     "output_type": "stream",
     "text": [
      "Epoch [8/120], Train Loss: 1.2003, Train Accuracy: 54.88%, Test Loss: 1.1913, Test Accuracy: 54.40%\n"
     ]
    },
    {
     "name": "stderr",
     "output_type": "stream",
     "text": [
      "Epoch 9/120: 100%|█████████████████████████████████████████| 898/898 [06:26<00:00,  2.32batch/s, acc=56.1, loss=0.687]\n",
      "Validating: 100%|████████████████████████████████████████████████████████████████| 225/225 [00:32<00:00,  6.87batch/s]\n"
     ]
    },
    {
     "name": "stdout",
     "output_type": "stream",
     "text": [
      "Epoch [9/120], Train Loss: 1.1686, Train Accuracy: 56.11%, Test Loss: 1.1761, Test Accuracy: 55.08%\n"
     ]
    },
    {
     "name": "stderr",
     "output_type": "stream",
     "text": [
      "Epoch 10/120: 100%|████████████████████████████████████████| 898/898 [06:35<00:00,  2.27batch/s, acc=57.2, loss=0.882]\n",
      "Validating: 100%|████████████████████████████████████████████████████████████████| 225/225 [00:35<00:00,  6.29batch/s]\n"
     ]
    },
    {
     "name": "stdout",
     "output_type": "stream",
     "text": [
      "Epoch [10/120], Train Loss: 1.1458, Train Accuracy: 57.18%, Test Loss: 1.1533, Test Accuracy: 57.12%\n"
     ]
    },
    {
     "name": "stderr",
     "output_type": "stream",
     "text": [
      "Epoch 11/120: 100%|██████████████████████████████████████████| 898/898 [07:04<00:00,  2.12batch/s, acc=57.2, loss=0.7]\n",
      "Validating: 100%|████████████████████████████████████████████████████████████████| 225/225 [00:35<00:00,  6.41batch/s]\n"
     ]
    },
    {
     "name": "stdout",
     "output_type": "stream",
     "text": [
      "Epoch [11/120], Train Loss: 1.1226, Train Accuracy: 57.21%, Test Loss: 1.1517, Test Accuracy: 55.88%\n"
     ]
    },
    {
     "name": "stderr",
     "output_type": "stream",
     "text": [
      "Epoch 12/120: 100%|█████████████████████████████████████████| 898/898 [14:48<00:00,  1.01batch/s, acc=58.9, loss=1.27]\n",
      "Validating: 100%|████████████████████████████████████████████████████████████████| 225/225 [00:35<00:00,  6.29batch/s]\n"
     ]
    },
    {
     "name": "stdout",
     "output_type": "stream",
     "text": [
      "Epoch [12/120], Train Loss: 1.0997, Train Accuracy: 58.85%, Test Loss: 1.1484, Test Accuracy: 56.45%\n"
     ]
    },
    {
     "name": "stderr",
     "output_type": "stream",
     "text": [
      "Epoch 13/120: 100%|████████████████████████████████████████| 898/898 [07:08<00:00,  2.10batch/s, acc=59.3, loss=0.765]\n",
      "Validating: 100%|████████████████████████████████████████████████████████████████| 225/225 [00:34<00:00,  6.50batch/s]\n"
     ]
    },
    {
     "name": "stdout",
     "output_type": "stream",
     "text": [
      "Epoch [13/120], Train Loss: 1.0775, Train Accuracy: 59.29%, Test Loss: 1.1230, Test Accuracy: 57.29%\n"
     ]
    },
    {
     "name": "stderr",
     "output_type": "stream",
     "text": [
      "Epoch 14/120: 100%|████████████████████████████████████████| 898/898 [46:58<00:00,  3.14s/batch, acc=60.2, loss=0.304]\n",
      "Validating: 100%|████████████████████████████████████████████████████████████████| 225/225 [00:32<00:00,  6.97batch/s]\n"
     ]
    },
    {
     "name": "stdout",
     "output_type": "stream",
     "text": [
      "Epoch [14/120], Train Loss: 1.0595, Train Accuracy: 60.21%, Test Loss: 1.1073, Test Accuracy: 58.41%\n"
     ]
    },
    {
     "name": "stderr",
     "output_type": "stream",
     "text": [
      "Epoch 15/120: 100%|████████████████████████████████████████| 898/898 [07:50<00:00,  1.91batch/s, acc=61.1, loss=0.648]\n",
      "Validating: 100%|████████████████████████████████████████████████████████████████| 225/225 [00:29<00:00,  7.52batch/s]\n"
     ]
    },
    {
     "name": "stdout",
     "output_type": "stream",
     "text": [
      "Epoch [15/120], Train Loss: 1.0410, Train Accuracy: 61.05%, Test Loss: 1.1206, Test Accuracy: 58.36%\n"
     ]
    },
    {
     "name": "stderr",
     "output_type": "stream",
     "text": [
      "Epoch 16/120: 100%|█████████████████████████████████████████| 898/898 [07:01<00:00,  2.13batch/s, acc=61.7, loss=1.25]\n",
      "Validating: 100%|████████████████████████████████████████████████████████████████| 225/225 [00:36<00:00,  6.21batch/s]\n"
     ]
    },
    {
     "name": "stdout",
     "output_type": "stream",
     "text": [
      "Epoch [16/120], Train Loss: 1.0241, Train Accuracy: 61.67%, Test Loss: 1.0928, Test Accuracy: 58.36%\n"
     ]
    },
    {
     "name": "stderr",
     "output_type": "stream",
     "text": [
      "Epoch 17/120: 100%|████████████████████████████████████████| 898/898 [07:30<00:00,  1.99batch/s, acc=62.1, loss=0.748]\n",
      "Validating: 100%|████████████████████████████████████████████████████████████████| 225/225 [00:37<00:00,  5.95batch/s]\n"
     ]
    },
    {
     "name": "stdout",
     "output_type": "stream",
     "text": [
      "Epoch [17/120], Train Loss: 1.0062, Train Accuracy: 62.12%, Test Loss: 1.0909, Test Accuracy: 58.62%\n"
     ]
    },
    {
     "name": "stderr",
     "output_type": "stream",
     "text": [
      "Epoch 18/120: 100%|████████████████████████████████████████| 898/898 [49:12<00:00,  3.29s/batch, acc=63.1, loss=0.853]\n",
      "Validating: 100%|████████████████████████████████████████████████████████████████| 225/225 [00:31<00:00,  7.14batch/s]\n"
     ]
    },
    {
     "name": "stdout",
     "output_type": "stream",
     "text": [
      "Epoch [18/120], Train Loss: 0.9922, Train Accuracy: 63.15%, Test Loss: 1.0837, Test Accuracy: 58.90%\n"
     ]
    },
    {
     "name": "stderr",
     "output_type": "stream",
     "text": [
      "Epoch 19/120: 100%|█████████████████████████████████████████| 898/898 [06:11<00:00,  2.42batch/s, acc=63.5, loss=1.02]\n",
      "Validating: 100%|████████████████████████████████████████████████████████████████| 225/225 [00:34<00:00,  6.54batch/s]\n"
     ]
    },
    {
     "name": "stdout",
     "output_type": "stream",
     "text": [
      "Epoch [19/120], Train Loss: 0.9751, Train Accuracy: 63.51%, Test Loss: 1.0806, Test Accuracy: 59.96%\n"
     ]
    },
    {
     "name": "stderr",
     "output_type": "stream",
     "text": [
      "Epoch 20/120: 100%|████████████████████████████████████████| 898/898 [06:25<00:00,  2.33batch/s, acc=64.4, loss=0.885]\n",
      "Validating: 100%|████████████████████████████████████████████████████████████████| 225/225 [00:32<00:00,  6.96batch/s]\n"
     ]
    },
    {
     "name": "stdout",
     "output_type": "stream",
     "text": [
      "Epoch [20/120], Train Loss: 0.9546, Train Accuracy: 64.39%, Test Loss: 1.0707, Test Accuracy: 59.79%\n"
     ]
    },
    {
     "name": "stderr",
     "output_type": "stream",
     "text": [
      "Epoch 21/120: 100%|████████████████████████████████████████| 898/898 [06:03<00:00,  2.47batch/s, acc=65.1, loss=0.557]\n",
      "Validating: 100%|████████████████████████████████████████████████████████████████| 225/225 [00:34<00:00,  6.54batch/s]\n"
     ]
    },
    {
     "name": "stdout",
     "output_type": "stream",
     "text": [
      "Epoch [21/120], Train Loss: 0.9369, Train Accuracy: 65.06%, Test Loss: 1.0837, Test Accuracy: 59.49%\n"
     ]
    },
    {
     "name": "stderr",
     "output_type": "stream",
     "text": [
      "Epoch 22/120: 100%|██████████████████████████████████████████| 898/898 [06:12<00:00,  2.41batch/s, acc=66, loss=0.697]\n",
      "Validating: 100%|████████████████████████████████████████████████████████████████| 225/225 [00:31<00:00,  7.07batch/s]\n"
     ]
    },
    {
     "name": "stdout",
     "output_type": "stream",
     "text": [
      "Epoch [22/120], Train Loss: 0.9226, Train Accuracy: 65.95%, Test Loss: 1.0612, Test Accuracy: 60.70%\n"
     ]
    },
    {
     "name": "stderr",
     "output_type": "stream",
     "text": [
      "Epoch 23/120: 100%|█████████████████████████████████████████| 898/898 [06:17<00:00,  2.38batch/s, acc=65.9, loss=1.52]\n",
      "Validating: 100%|████████████████████████████████████████████████████████████████| 225/225 [00:33<00:00,  6.76batch/s]\n"
     ]
    },
    {
     "name": "stdout",
     "output_type": "stream",
     "text": [
      "Epoch [23/120], Train Loss: 0.9130, Train Accuracy: 65.88%, Test Loss: 1.0722, Test Accuracy: 60.74%\n"
     ]
    },
    {
     "name": "stderr",
     "output_type": "stream",
     "text": [
      "Epoch 24/120: 100%|█████████████████████████████████████████| 898/898 [06:15<00:00,  2.39batch/s, acc=66.5, loss=1.25]\n",
      "Validating: 100%|████████████████████████████████████████████████████████████████| 225/225 [00:34<00:00,  6.58batch/s]\n"
     ]
    },
    {
     "name": "stdout",
     "output_type": "stream",
     "text": [
      "Epoch [24/120], Train Loss: 0.8935, Train Accuracy: 66.51%, Test Loss: 1.0837, Test Accuracy: 60.31%\n"
     ]
    },
    {
     "name": "stderr",
     "output_type": "stream",
     "text": [
      "Epoch 25/120: 100%|████████████████████████████████████████| 898/898 [06:17<00:00,  2.38batch/s, acc=67.3, loss=0.708]\n",
      "Validating: 100%|████████████████████████████████████████████████████████████████| 225/225 [00:34<00:00,  6.57batch/s]\n"
     ]
    },
    {
     "name": "stdout",
     "output_type": "stream",
     "text": [
      "Epoch [25/120], Train Loss: 0.8752, Train Accuracy: 67.32%, Test Loss: 1.0713, Test Accuracy: 60.69%\n"
     ]
    },
    {
     "name": "stderr",
     "output_type": "stream",
     "text": [
      "Epoch 26/120: 100%|████████████████████████████████████████| 898/898 [06:17<00:00,  2.38batch/s, acc=67.7, loss=0.899]\n",
      "Validating: 100%|████████████████████████████████████████████████████████████████| 225/225 [00:33<00:00,  6.73batch/s]\n"
     ]
    },
    {
     "name": "stdout",
     "output_type": "stream",
     "text": [
      "Epoch [26/120], Train Loss: 0.8637, Train Accuracy: 67.72%, Test Loss: 1.0701, Test Accuracy: 61.15%\n"
     ]
    },
    {
     "name": "stderr",
     "output_type": "stream",
     "text": [
      "Epoch 27/120: 100%|████████████████████████████████████████| 898/898 [06:16<00:00,  2.38batch/s, acc=68.9, loss=0.783]\n",
      "Validating: 100%|████████████████████████████████████████████████████████████████| 225/225 [00:33<00:00,  6.65batch/s]\n"
     ]
    },
    {
     "name": "stdout",
     "output_type": "stream",
     "text": [
      "Epoch [27/120], Train Loss: 0.8424, Train Accuracy: 68.85%, Test Loss: 1.0817, Test Accuracy: 60.32%\n"
     ]
    },
    {
     "name": "stderr",
     "output_type": "stream",
     "text": [
      "Epoch 28/120: 100%|████████████████████████████████████████| 898/898 [06:18<00:00,  2.38batch/s, acc=69.1, loss=0.793]\n",
      "Validating: 100%|████████████████████████████████████████████████████████████████| 225/225 [00:33<00:00,  6.68batch/s]\n"
     ]
    },
    {
     "name": "stdout",
     "output_type": "stream",
     "text": [
      "Epoch [28/120], Train Loss: 0.8296, Train Accuracy: 69.06%, Test Loss: 1.0846, Test Accuracy: 60.35%\n"
     ]
    },
    {
     "name": "stderr",
     "output_type": "stream",
     "text": [
      "Epoch 29/120: 100%|████████████████████████████████████████| 898/898 [06:16<00:00,  2.39batch/s, acc=69.7, loss=0.844]\n",
      "Validating: 100%|████████████████████████████████████████████████████████████████| 225/225 [00:33<00:00,  6.64batch/s]\n"
     ]
    },
    {
     "name": "stdout",
     "output_type": "stream",
     "text": [
      "Epoch [29/120], Train Loss: 0.8149, Train Accuracy: 69.69%, Test Loss: 1.0852, Test Accuracy: 61.33%\n"
     ]
    },
    {
     "name": "stderr",
     "output_type": "stream",
     "text": [
      "Epoch 30/120: 100%|█████████████████████████████████████████| 898/898 [06:17<00:00,  2.38batch/s, acc=70.1, loss=1.05]\n",
      "Validating: 100%|████████████████████████████████████████████████████████████████| 225/225 [00:33<00:00,  6.68batch/s]\n"
     ]
    },
    {
     "name": "stdout",
     "output_type": "stream",
     "text": [
      "Epoch [30/120], Train Loss: 0.8063, Train Accuracy: 70.12%, Test Loss: 1.0866, Test Accuracy: 61.34%\n"
     ]
    },
    {
     "name": "stderr",
     "output_type": "stream",
     "text": [
      "Epoch 31/120: 100%|████████████████████████████████████████| 898/898 [06:16<00:00,  2.39batch/s, acc=72.4, loss=0.603]\n",
      "Validating: 100%|████████████████████████████████████████████████████████████████| 225/225 [00:34<00:00,  6.46batch/s]\n"
     ]
    },
    {
     "name": "stdout",
     "output_type": "stream",
     "text": [
      "Epoch [31/120], Train Loss: 0.7458, Train Accuracy: 72.42%, Test Loss: 1.0696, Test Accuracy: 61.98%\n"
     ]
    },
    {
     "name": "stderr",
     "output_type": "stream",
     "text": [
      "Epoch 32/120: 100%|████████████████████████████████████████| 898/898 [06:17<00:00,  2.38batch/s, acc=72.6, loss=0.847]\n",
      "Validating: 100%|████████████████████████████████████████████████████████████████| 225/225 [00:33<00:00,  6.73batch/s]\n"
     ]
    },
    {
     "name": "stdout",
     "output_type": "stream",
     "text": [
      "Epoch [32/120], Train Loss: 0.7378, Train Accuracy: 72.59%, Test Loss: 1.0641, Test Accuracy: 62.33%\n"
     ]
    },
    {
     "name": "stderr",
     "output_type": "stream",
     "text": [
      "Epoch 33/120: 100%|████████████████████████████████████████| 898/898 [06:17<00:00,  2.38batch/s, acc=73.3, loss=0.314]\n",
      "Validating: 100%|████████████████████████████████████████████████████████████████| 225/225 [00:33<00:00,  6.67batch/s]\n"
     ]
    },
    {
     "name": "stdout",
     "output_type": "stream",
     "text": [
      "Epoch [33/120], Train Loss: 0.7259, Train Accuracy: 73.30%, Test Loss: 1.0735, Test Accuracy: 62.09%\n"
     ]
    },
    {
     "name": "stderr",
     "output_type": "stream",
     "text": [
      "Epoch 34/120: 100%|████████████████████████████████████████| 898/898 [06:15<00:00,  2.39batch/s, acc=73.1, loss=0.825]\n",
      "Validating: 100%|████████████████████████████████████████████████████████████████| 225/225 [00:33<00:00,  6.64batch/s]\n"
     ]
    },
    {
     "name": "stdout",
     "output_type": "stream",
     "text": [
      "Epoch [34/120], Train Loss: 0.7243, Train Accuracy: 73.06%, Test Loss: 1.0696, Test Accuracy: 62.52%\n"
     ]
    },
    {
     "name": "stderr",
     "output_type": "stream",
     "text": [
      "Epoch 35/120: 100%|█████████████████████████████████████████| 898/898 [06:15<00:00,  2.39batch/s, acc=73.3, loss=1.07]\n",
      "Validating: 100%|████████████████████████████████████████████████████████████████| 225/225 [00:33<00:00,  6.75batch/s]\n"
     ]
    },
    {
     "name": "stdout",
     "output_type": "stream",
     "text": [
      "Epoch [35/120], Train Loss: 0.7203, Train Accuracy: 73.35%, Test Loss: 1.0803, Test Accuracy: 62.05%\n"
     ]
    },
    {
     "name": "stderr",
     "output_type": "stream",
     "text": [
      "Epoch 36/120: 100%|████████████████████████████████████████| 898/898 [06:17<00:00,  2.38batch/s, acc=73.8, loss=0.853]\n",
      "Validating: 100%|████████████████████████████████████████████████████████████████| 225/225 [00:32<00:00,  6.84batch/s]\n"
     ]
    },
    {
     "name": "stdout",
     "output_type": "stream",
     "text": [
      "Epoch [36/120], Train Loss: 0.7139, Train Accuracy: 73.83%, Test Loss: 1.0715, Test Accuracy: 62.18%\n"
     ]
    },
    {
     "name": "stderr",
     "output_type": "stream",
     "text": [
      "Epoch 37/120: 100%|████████████████████████████████████████| 898/898 [06:14<00:00,  2.40batch/s, acc=73.8, loss=0.541]\n",
      "Validating: 100%|████████████████████████████████████████████████████████████████| 225/225 [00:33<00:00,  6.65batch/s]\n"
     ]
    },
    {
     "name": "stdout",
     "output_type": "stream",
     "text": [
      "Epoch [37/120], Train Loss: 0.7102, Train Accuracy: 73.80%, Test Loss: 1.0863, Test Accuracy: 62.59%\n"
     ]
    },
    {
     "name": "stderr",
     "output_type": "stream",
     "text": [
      "Epoch 38/120: 100%|████████████████████████████████████████| 898/898 [06:14<00:00,  2.40batch/s, acc=74.1, loss=0.607]\n",
      "Validating: 100%|████████████████████████████████████████████████████████████████| 225/225 [00:33<00:00,  6.81batch/s]\n"
     ]
    },
    {
     "name": "stdout",
     "output_type": "stream",
     "text": [
      "Epoch [38/120], Train Loss: 0.7079, Train Accuracy: 74.10%, Test Loss: 1.0855, Test Accuracy: 62.11%\n"
     ]
    },
    {
     "name": "stderr",
     "output_type": "stream",
     "text": [
      "Epoch 39/120: 100%|█████████████████████████████████████████| 898/898 [06:13<00:00,  2.40batch/s, acc=73.9, loss=1.43]\n",
      "Validating: 100%|████████████████████████████████████████████████████████████████| 225/225 [00:33<00:00,  6.81batch/s]\n"
     ]
    },
    {
     "name": "stdout",
     "output_type": "stream",
     "text": [
      "Epoch [39/120], Train Loss: 0.7073, Train Accuracy: 73.89%, Test Loss: 1.0845, Test Accuracy: 62.71%\n"
     ]
    },
    {
     "name": "stderr",
     "output_type": "stream",
     "text": [
      "Epoch 40/120: 100%|████████████████████████████████████████| 898/898 [06:16<00:00,  2.38batch/s, acc=74.1, loss=0.847]\n",
      "Validating: 100%|████████████████████████████████████████████████████████████████| 225/225 [00:33<00:00,  6.75batch/s]\n"
     ]
    },
    {
     "name": "stdout",
     "output_type": "stream",
     "text": [
      "Epoch [40/120], Train Loss: 0.7045, Train Accuracy: 74.09%, Test Loss: 1.0789, Test Accuracy: 62.01%\n"
     ]
    },
    {
     "name": "stderr",
     "output_type": "stream",
     "text": [
      "Epoch 41/120: 100%|████████████████████████████████████████| 898/898 [06:13<00:00,  2.41batch/s, acc=74.4, loss=0.503]\n",
      "Validating: 100%|████████████████████████████████████████████████████████████████| 225/225 [00:32<00:00,  6.83batch/s]\n"
     ]
    },
    {
     "name": "stdout",
     "output_type": "stream",
     "text": [
      "Epoch [41/120], Train Loss: 0.6934, Train Accuracy: 74.41%, Test Loss: 1.0762, Test Accuracy: 62.22%\n"
     ]
    },
    {
     "name": "stderr",
     "output_type": "stream",
     "text": [
      "Epoch 42/120: 100%|████████████████████████████████████████| 898/898 [06:12<00:00,  2.41batch/s, acc=74.4, loss=0.439]\n",
      "Validating: 100%|████████████████████████████████████████████████████████████████| 225/225 [00:33<00:00,  6.77batch/s]\n"
     ]
    },
    {
     "name": "stdout",
     "output_type": "stream",
     "text": [
      "Epoch [42/120], Train Loss: 0.6916, Train Accuracy: 74.41%, Test Loss: 1.0727, Test Accuracy: 63.00%\n"
     ]
    },
    {
     "name": "stderr",
     "output_type": "stream",
     "text": [
      "Epoch 43/120: 100%|████████████████████████████████████████| 898/898 [06:12<00:00,  2.41batch/s, acc=74.6, loss=0.652]\n",
      "Validating: 100%|████████████████████████████████████████████████████████████████| 225/225 [00:33<00:00,  6.74batch/s]\n"
     ]
    },
    {
     "name": "stdout",
     "output_type": "stream",
     "text": [
      "Epoch [43/120], Train Loss: 0.6961, Train Accuracy: 74.55%, Test Loss: 1.0904, Test Accuracy: 62.15%\n"
     ]
    },
    {
     "name": "stderr",
     "output_type": "stream",
     "text": [
      "Epoch 44/120: 100%|████████████████████████████████████████| 898/898 [06:11<00:00,  2.41batch/s, acc=74.7, loss=0.145]\n",
      "Validating: 100%|████████████████████████████████████████████████████████████████| 225/225 [00:32<00:00,  6.87batch/s]\n"
     ]
    },
    {
     "name": "stdout",
     "output_type": "stream",
     "text": [
      "Epoch [44/120], Train Loss: 0.6857, Train Accuracy: 74.67%, Test Loss: 1.0938, Test Accuracy: 62.18%\n"
     ]
    },
    {
     "name": "stderr",
     "output_type": "stream",
     "text": [
      "Epoch 45/120: 100%|█████████████████████████████████████████| 898/898 [06:14<00:00,  2.40batch/s, acc=74.8, loss=0.51]\n",
      "Validating: 100%|████████████████████████████████████████████████████████████████| 225/225 [00:33<00:00,  6.79batch/s]\n"
     ]
    },
    {
     "name": "stdout",
     "output_type": "stream",
     "text": [
      "Epoch [45/120], Train Loss: 0.6835, Train Accuracy: 74.78%, Test Loss: 1.0823, Test Accuracy: 62.65%\n"
     ]
    },
    {
     "name": "stderr",
     "output_type": "stream",
     "text": [
      "Epoch 46/120: 100%|████████████████████████████████████████| 898/898 [06:13<00:00,  2.40batch/s, acc=74.9, loss=0.423]\n",
      "Validating: 100%|████████████████████████████████████████████████████████████████| 225/225 [00:33<00:00,  6.73batch/s]\n"
     ]
    },
    {
     "name": "stdout",
     "output_type": "stream",
     "text": [
      "Epoch [46/120], Train Loss: 0.6801, Train Accuracy: 74.89%, Test Loss: 1.0818, Test Accuracy: 62.72%\n"
     ]
    },
    {
     "name": "stderr",
     "output_type": "stream",
     "text": [
      "Epoch 47/120: 100%|████████████████████████████████████████| 898/898 [06:13<00:00,  2.40batch/s, acc=75.1, loss=0.118]\n",
      "Validating: 100%|████████████████████████████████████████████████████████████████| 225/225 [00:33<00:00,  6.71batch/s]\n"
     ]
    },
    {
     "name": "stdout",
     "output_type": "stream",
     "text": [
      "Epoch [47/120], Train Loss: 0.6778, Train Accuracy: 75.08%, Test Loss: 1.0943, Test Accuracy: 62.27%\n"
     ]
    },
    {
     "name": "stderr",
     "output_type": "stream",
     "text": [
      "Epoch 48/120: 100%|█████████████████████████████████████████| 898/898 [06:13<00:00,  2.41batch/s, acc=75.2, loss=0.91]\n",
      "Validating: 100%|████████████████████████████████████████████████████████████████| 225/225 [00:33<00:00,  6.77batch/s]\n"
     ]
    },
    {
     "name": "stdout",
     "output_type": "stream",
     "text": [
      "Epoch [48/120], Train Loss: 0.6752, Train Accuracy: 75.23%, Test Loss: 1.0898, Test Accuracy: 62.20%\n"
     ]
    },
    {
     "name": "stderr",
     "output_type": "stream",
     "text": [
      "Epoch 49/120: 100%|████████████████████████████████████████| 898/898 [06:13<00:00,  2.40batch/s, acc=75.1, loss=0.578]\n",
      "Validating: 100%|████████████████████████████████████████████████████████████████| 225/225 [00:33<00:00,  6.77batch/s]\n"
     ]
    },
    {
     "name": "stdout",
     "output_type": "stream",
     "text": [
      "Epoch [49/120], Train Loss: 0.6795, Train Accuracy: 75.11%, Test Loss: 1.0849, Test Accuracy: 62.39%\n"
     ]
    },
    {
     "name": "stderr",
     "output_type": "stream",
     "text": [
      "Epoch 50/120: 100%|████████████████████████████████████████| 898/898 [06:13<00:00,  2.41batch/s, acc=75.2, loss=0.817]\n",
      "Validating: 100%|████████████████████████████████████████████████████████████████| 225/225 [00:32<00:00,  6.92batch/s]\n"
     ]
    },
    {
     "name": "stdout",
     "output_type": "stream",
     "text": [
      "Epoch [50/120], Train Loss: 0.6765, Train Accuracy: 75.21%, Test Loss: 1.0959, Test Accuracy: 61.97%\n"
     ]
    },
    {
     "name": "stderr",
     "output_type": "stream",
     "text": [
      "Epoch 51/120: 100%|████████████████████████████████████████| 898/898 [06:17<00:00,  2.38batch/s, acc=75.4, loss=0.372]\n",
      "Validating: 100%|████████████████████████████████████████████████████████████████| 225/225 [00:33<00:00,  6.69batch/s]\n"
     ]
    },
    {
     "name": "stdout",
     "output_type": "stream",
     "text": [
      "Epoch [51/120], Train Loss: 0.6659, Train Accuracy: 75.42%, Test Loss: 1.1013, Test Accuracy: 62.05%\n"
     ]
    },
    {
     "name": "stderr",
     "output_type": "stream",
     "text": [
      "Epoch 52/120: 100%|████████████████████████████████████████| 898/898 [06:13<00:00,  2.40batch/s, acc=75.7, loss=0.439]\n",
      "Validating: 100%|████████████████████████████████████████████████████████████████| 225/225 [00:33<00:00,  6.77batch/s]\n"
     ]
    },
    {
     "name": "stdout",
     "output_type": "stream",
     "text": [
      "Epoch [52/120], Train Loss: 0.6597, Train Accuracy: 75.66%, Test Loss: 1.1021, Test Accuracy: 62.44%\n"
     ]
    },
    {
     "name": "stderr",
     "output_type": "stream",
     "text": [
      "Epoch 53/120: 100%|█████████████████████████████████████████| 898/898 [06:12<00:00,  2.41batch/s, acc=75.6, loss=1.05]\n",
      "Validating: 100%|████████████████████████████████████████████████████████████████| 225/225 [00:33<00:00,  6.76batch/s]\n"
     ]
    },
    {
     "name": "stdout",
     "output_type": "stream",
     "text": [
      "Epoch [53/120], Train Loss: 0.6635, Train Accuracy: 75.57%, Test Loss: 1.0948, Test Accuracy: 62.65%\n"
     ]
    },
    {
     "name": "stderr",
     "output_type": "stream",
     "text": [
      "Epoch 54/120: 100%|██████████████████████████████████████████| 898/898 [06:13<00:00,  2.40batch/s, acc=76, loss=0.735]\n",
      "Validating: 100%|████████████████████████████████████████████████████████████████| 225/225 [00:33<00:00,  6.81batch/s]\n"
     ]
    },
    {
     "name": "stdout",
     "output_type": "stream",
     "text": [
      "Epoch [54/120], Train Loss: 0.6593, Train Accuracy: 75.96%, Test Loss: 1.1111, Test Accuracy: 62.57%\n"
     ]
    },
    {
     "name": "stderr",
     "output_type": "stream",
     "text": [
      "Epoch 55/120: 100%|████████████████████████████████████████| 898/898 [06:12<00:00,  2.41batch/s, acc=76.1, loss=0.624]\n",
      "Validating: 100%|████████████████████████████████████████████████████████████████| 225/225 [00:33<00:00,  6.67batch/s]\n"
     ]
    },
    {
     "name": "stdout",
     "output_type": "stream",
     "text": [
      "Epoch [55/120], Train Loss: 0.6470, Train Accuracy: 76.09%, Test Loss: 1.1053, Test Accuracy: 62.48%\n"
     ]
    },
    {
     "name": "stderr",
     "output_type": "stream",
     "text": [
      "Epoch 56/120: 100%|████████████████████████████████████████| 898/898 [06:12<00:00,  2.41batch/s, acc=75.7, loss=0.525]\n",
      "Validating: 100%|████████████████████████████████████████████████████████████████| 225/225 [00:33<00:00,  6.63batch/s]\n"
     ]
    },
    {
     "name": "stdout",
     "output_type": "stream",
     "text": [
      "Epoch [56/120], Train Loss: 0.6597, Train Accuracy: 75.70%, Test Loss: 1.0974, Test Accuracy: 62.80%\n"
     ]
    },
    {
     "name": "stderr",
     "output_type": "stream",
     "text": [
      "Epoch 57/120: 100%|████████████████████████████████████████| 898/898 [06:12<00:00,  2.41batch/s, acc=75.7, loss=0.267]\n",
      "Validating: 100%|████████████████████████████████████████████████████████████████| 225/225 [00:33<00:00,  6.72batch/s]\n"
     ]
    },
    {
     "name": "stdout",
     "output_type": "stream",
     "text": [
      "Epoch [57/120], Train Loss: 0.6544, Train Accuracy: 75.72%, Test Loss: 1.0977, Test Accuracy: 63.18%\n"
     ]
    },
    {
     "name": "stderr",
     "output_type": "stream",
     "text": [
      "Epoch 58/120: 100%|████████████████████████████████████████| 898/898 [06:12<00:00,  2.41batch/s, acc=76.1, loss=0.378]\n",
      "Validating: 100%|████████████████████████████████████████████████████████████████| 225/225 [00:37<00:00,  5.92batch/s]\n"
     ]
    },
    {
     "name": "stdout",
     "output_type": "stream",
     "text": [
      "Epoch [58/120], Train Loss: 0.6513, Train Accuracy: 76.08%, Test Loss: 1.1093, Test Accuracy: 62.06%\n"
     ]
    },
    {
     "name": "stderr",
     "output_type": "stream",
     "text": [
      "Epoch 59/120: 100%|████████████████████████████████████████| 898/898 [06:14<00:00,  2.40batch/s, acc=76.1, loss=0.073]\n",
      "Validating: 100%|████████████████████████████████████████████████████████████████| 225/225 [00:33<00:00,  6.78batch/s]\n"
     ]
    },
    {
     "name": "stdout",
     "output_type": "stream",
     "text": [
      "Epoch [59/120], Train Loss: 0.6467, Train Accuracy: 76.14%, Test Loss: 1.0958, Test Accuracy: 63.10%\n"
     ]
    },
    {
     "name": "stderr",
     "output_type": "stream",
     "text": [
      "Epoch 60/120: 100%|████████████████████████████████████████| 898/898 [06:13<00:00,  2.40batch/s, acc=76.3, loss=0.643]\n",
      "Validating: 100%|████████████████████████████████████████████████████████████████| 225/225 [00:33<00:00,  6.78batch/s]\n"
     ]
    },
    {
     "name": "stdout",
     "output_type": "stream",
     "text": [
      "Epoch [60/120], Train Loss: 0.6425, Train Accuracy: 76.34%, Test Loss: 1.1095, Test Accuracy: 61.80%\n"
     ]
    },
    {
     "name": "stderr",
     "output_type": "stream",
     "text": [
      "Epoch 61/120: 100%|████████████████████████████████████████| 898/898 [06:10<00:00,  2.42batch/s, acc=76.9, loss=0.272]\n",
      "Validating: 100%|████████████████████████████████████████████████████████████████| 225/225 [00:32<00:00,  6.85batch/s]\n"
     ]
    },
    {
     "name": "stdout",
     "output_type": "stream",
     "text": [
      "Epoch [61/120], Train Loss: 0.6334, Train Accuracy: 76.89%, Test Loss: 1.1032, Test Accuracy: 63.01%\n"
     ]
    },
    {
     "name": "stderr",
     "output_type": "stream",
     "text": [
      "Epoch 62/120: 100%|████████████████████████████████████████| 898/898 [06:14<00:00,  2.40batch/s, acc=76.6, loss=0.543]\n",
      "Validating: 100%|████████████████████████████████████████████████████████████████| 225/225 [00:33<00:00,  6.77batch/s]\n"
     ]
    },
    {
     "name": "stdout",
     "output_type": "stream",
     "text": [
      "Epoch [62/120], Train Loss: 0.6401, Train Accuracy: 76.61%, Test Loss: 1.0927, Test Accuracy: 63.37%\n"
     ]
    },
    {
     "name": "stderr",
     "output_type": "stream",
     "text": [
      "Epoch 63/120: 100%|████████████████████████████████████████| 898/898 [06:14<00:00,  2.40batch/s, acc=76.9, loss=0.408]\n",
      "Validating: 100%|████████████████████████████████████████████████████████████████| 225/225 [00:33<00:00,  6.69batch/s]\n"
     ]
    },
    {
     "name": "stdout",
     "output_type": "stream",
     "text": [
      "Epoch [63/120], Train Loss: 0.6350, Train Accuracy: 76.89%, Test Loss: 1.1120, Test Accuracy: 62.43%\n"
     ]
    },
    {
     "name": "stderr",
     "output_type": "stream",
     "text": [
      "Epoch 64/120: 100%|████████████████████████████████████████| 898/898 [06:11<00:00,  2.42batch/s, acc=76.7, loss=0.513]\n",
      "Validating: 100%|████████████████████████████████████████████████████████████████| 225/225 [00:33<00:00,  6.74batch/s]\n"
     ]
    },
    {
     "name": "stdout",
     "output_type": "stream",
     "text": [
      "Epoch [64/120], Train Loss: 0.6392, Train Accuracy: 76.66%, Test Loss: 1.1008, Test Accuracy: 62.86%\n"
     ]
    },
    {
     "name": "stderr",
     "output_type": "stream",
     "text": [
      "Epoch 65/120: 100%|████████████████████████████████████████| 898/898 [06:12<00:00,  2.41batch/s, acc=76.9, loss=0.482]\n",
      "Validating: 100%|████████████████████████████████████████████████████████████████| 225/225 [00:33<00:00,  6.81batch/s]\n"
     ]
    },
    {
     "name": "stdout",
     "output_type": "stream",
     "text": [
      "Epoch [65/120], Train Loss: 0.6326, Train Accuracy: 76.88%, Test Loss: 1.1140, Test Accuracy: 62.72%\n"
     ]
    },
    {
     "name": "stderr",
     "output_type": "stream",
     "text": [
      "Epoch 66/120: 100%|██████████████████████████████████████████| 898/898 [06:12<00:00,  2.41batch/s, acc=77, loss=0.711]\n",
      "Validating: 100%|████████████████████████████████████████████████████████████████| 225/225 [00:33<00:00,  6.82batch/s]\n"
     ]
    },
    {
     "name": "stdout",
     "output_type": "stream",
     "text": [
      "Epoch [66/120], Train Loss: 0.6314, Train Accuracy: 76.99%, Test Loss: 1.1031, Test Accuracy: 62.65%\n"
     ]
    },
    {
     "name": "stderr",
     "output_type": "stream",
     "text": [
      "Epoch 67/120: 100%|████████████████████████████████████████| 898/898 [06:13<00:00,  2.40batch/s, acc=76.6, loss=0.295]\n",
      "Validating: 100%|████████████████████████████████████████████████████████████████| 225/225 [00:33<00:00,  6.78batch/s]\n"
     ]
    },
    {
     "name": "stdout",
     "output_type": "stream",
     "text": [
      "Epoch [67/120], Train Loss: 0.6365, Train Accuracy: 76.55%, Test Loss: 1.1043, Test Accuracy: 62.37%\n"
     ]
    },
    {
     "name": "stderr",
     "output_type": "stream",
     "text": [
      "Epoch 68/120: 100%|████████████████████████████████████████| 898/898 [06:13<00:00,  2.41batch/s, acc=76.7, loss=0.612]\n",
      "Validating: 100%|████████████████████████████████████████████████████████████████| 225/225 [00:32<00:00,  6.89batch/s]\n"
     ]
    },
    {
     "name": "stdout",
     "output_type": "stream",
     "text": [
      "Epoch [68/120], Train Loss: 0.6339, Train Accuracy: 76.73%, Test Loss: 1.0931, Test Accuracy: 62.93%\n"
     ]
    },
    {
     "name": "stderr",
     "output_type": "stream",
     "text": [
      "Epoch 69/120: 100%|████████████████████████████████████████| 898/898 [06:14<00:00,  2.39batch/s, acc=76.6, loss=0.848]\n",
      "Validating: 100%|████████████████████████████████████████████████████████████████| 225/225 [00:33<00:00,  6.72batch/s]\n"
     ]
    },
    {
     "name": "stdout",
     "output_type": "stream",
     "text": [
      "Epoch [69/120], Train Loss: 0.6377, Train Accuracy: 76.60%, Test Loss: 1.1024, Test Accuracy: 62.68%\n"
     ]
    },
    {
     "name": "stderr",
     "output_type": "stream",
     "text": [
      "Epoch 70/120: 100%|████████████████████████████████████████| 898/898 [06:14<00:00,  2.40batch/s, acc=76.5, loss=0.447]\n",
      "Validating: 100%|████████████████████████████████████████████████████████████████| 225/225 [00:33<00:00,  6.76batch/s]\n"
     ]
    },
    {
     "name": "stdout",
     "output_type": "stream",
     "text": [
      "Epoch [70/120], Train Loss: 0.6339, Train Accuracy: 76.53%, Test Loss: 1.1086, Test Accuracy: 62.43%\n"
     ]
    },
    {
     "name": "stderr",
     "output_type": "stream",
     "text": [
      "Epoch 71/120: 100%|████████████████████████████████████████| 898/898 [06:14<00:00,  2.40batch/s, acc=76.8, loss=0.345]\n",
      "Validating: 100%|████████████████████████████████████████████████████████████████| 225/225 [00:32<00:00,  6.86batch/s]\n"
     ]
    },
    {
     "name": "stdout",
     "output_type": "stream",
     "text": [
      "Epoch [71/120], Train Loss: 0.6349, Train Accuracy: 76.79%, Test Loss: 1.1101, Test Accuracy: 62.08%\n"
     ]
    },
    {
     "name": "stderr",
     "output_type": "stream",
     "text": [
      "Epoch 72/120: 100%|████████████████████████████████████████| 898/898 [06:15<00:00,  2.39batch/s, acc=76.7, loss=0.366]\n",
      "Validating: 100%|████████████████████████████████████████████████████████████████| 225/225 [00:33<00:00,  6.69batch/s]\n"
     ]
    },
    {
     "name": "stdout",
     "output_type": "stream",
     "text": [
      "Epoch [72/120], Train Loss: 0.6314, Train Accuracy: 76.67%, Test Loss: 1.0993, Test Accuracy: 62.97%\n"
     ]
    },
    {
     "name": "stderr",
     "output_type": "stream",
     "text": [
      "Epoch 73/120: 100%|█████████████████████████████████████████| 898/898 [06:15<00:00,  2.39batch/s, acc=76.9, loss=0.52]\n",
      "Validating: 100%|████████████████████████████████████████████████████████████████| 225/225 [00:32<00:00,  6.84batch/s]\n"
     ]
    },
    {
     "name": "stdout",
     "output_type": "stream",
     "text": [
      "Epoch [73/120], Train Loss: 0.6285, Train Accuracy: 76.87%, Test Loss: 1.1035, Test Accuracy: 62.26%\n"
     ]
    },
    {
     "name": "stderr",
     "output_type": "stream",
     "text": [
      "Epoch 74/120: 100%|████████████████████████████████████████| 898/898 [06:16<00:00,  2.38batch/s, acc=76.7, loss=0.764]\n",
      "Validating: 100%|████████████████████████████████████████████████████████████████| 225/225 [00:33<00:00,  6.80batch/s]\n"
     ]
    },
    {
     "name": "stdout",
     "output_type": "stream",
     "text": [
      "Epoch [74/120], Train Loss: 0.6326, Train Accuracy: 76.67%, Test Loss: 1.1130, Test Accuracy: 62.62%\n"
     ]
    },
    {
     "name": "stderr",
     "output_type": "stream",
     "text": [
      "Epoch 75/120: 100%|████████████████████████████████████████| 898/898 [06:16<00:00,  2.39batch/s, acc=76.9, loss=0.274]\n",
      "Validating: 100%|████████████████████████████████████████████████████████████████| 225/225 [00:33<00:00,  6.74batch/s]\n"
     ]
    },
    {
     "name": "stdout",
     "output_type": "stream",
     "text": [
      "Epoch [75/120], Train Loss: 0.6295, Train Accuracy: 76.91%, Test Loss: 1.1233, Test Accuracy: 62.52%\n"
     ]
    },
    {
     "name": "stderr",
     "output_type": "stream",
     "text": [
      "Epoch 76/120: 100%|██████████████████████████████████████████| 898/898 [06:17<00:00,  2.38batch/s, acc=77.1, loss=1.2]\n",
      "Validating: 100%|████████████████████████████████████████████████████████████████| 225/225 [00:33<00:00,  6.68batch/s]\n"
     ]
    },
    {
     "name": "stdout",
     "output_type": "stream",
     "text": [
      "Epoch [76/120], Train Loss: 0.6291, Train Accuracy: 77.14%, Test Loss: 1.1185, Test Accuracy: 62.86%\n"
     ]
    },
    {
     "name": "stderr",
     "output_type": "stream",
     "text": [
      "Epoch 77/120: 100%|█████████████████████████████████████████| 898/898 [06:17<00:00,  2.38batch/s, acc=76.6, loss=1.48]\n",
      "Validating: 100%|████████████████████████████████████████████████████████████████| 225/225 [00:32<00:00,  6.94batch/s]\n"
     ]
    },
    {
     "name": "stdout",
     "output_type": "stream",
     "text": [
      "Epoch [77/120], Train Loss: 0.6299, Train Accuracy: 76.63%, Test Loss: 1.1178, Test Accuracy: 62.75%\n"
     ]
    },
    {
     "name": "stderr",
     "output_type": "stream",
     "text": [
      "Epoch 78/120: 100%|████████████████████████████████████████| 898/898 [06:16<00:00,  2.39batch/s, acc=76.9, loss=0.583]\n",
      "Validating: 100%|████████████████████████████████████████████████████████████████| 225/225 [00:33<00:00,  6.72batch/s]\n"
     ]
    },
    {
     "name": "stdout",
     "output_type": "stream",
     "text": [
      "Epoch [78/120], Train Loss: 0.6296, Train Accuracy: 76.86%, Test Loss: 1.1094, Test Accuracy: 62.34%\n"
     ]
    },
    {
     "name": "stderr",
     "output_type": "stream",
     "text": [
      "Epoch 79/120: 100%|████████████████████████████████████████| 898/898 [06:17<00:00,  2.38batch/s, acc=76.7, loss=0.745]\n",
      "Validating: 100%|████████████████████████████████████████████████████████████████| 225/225 [00:32<00:00,  6.96batch/s]\n"
     ]
    },
    {
     "name": "stdout",
     "output_type": "stream",
     "text": [
      "Epoch [79/120], Train Loss: 0.6312, Train Accuracy: 76.68%, Test Loss: 1.1059, Test Accuracy: 62.80%\n"
     ]
    },
    {
     "name": "stderr",
     "output_type": "stream",
     "text": [
      "Epoch 80/120: 100%|████████████████████████████████████████| 898/898 [06:17<00:00,  2.38batch/s, acc=76.8, loss=0.638]\n",
      "Validating: 100%|████████████████████████████████████████████████████████████████| 225/225 [00:32<00:00,  6.84batch/s]\n"
     ]
    },
    {
     "name": "stdout",
     "output_type": "stream",
     "text": [
      "Epoch [80/120], Train Loss: 0.6349, Train Accuracy: 76.83%, Test Loss: 1.0931, Test Accuracy: 62.75%\n"
     ]
    },
    {
     "name": "stderr",
     "output_type": "stream",
     "text": [
      "Epoch 81/120: 100%|████████████████████████████████████████| 898/898 [06:17<00:00,  2.38batch/s, acc=76.7, loss=0.641]\n",
      "Validating: 100%|████████████████████████████████████████████████████████████████| 225/225 [00:32<00:00,  6.95batch/s]\n"
     ]
    },
    {
     "name": "stdout",
     "output_type": "stream",
     "text": [
      "Epoch [81/120], Train Loss: 0.6349, Train Accuracy: 76.73%, Test Loss: 1.0911, Test Accuracy: 63.14%\n"
     ]
    },
    {
     "name": "stderr",
     "output_type": "stream",
     "text": [
      "Epoch 82/120: 100%|████████████████████████████████████████| 898/898 [06:16<00:00,  2.39batch/s, acc=77.2, loss=0.482]\n",
      "Validating: 100%|████████████████████████████████████████████████████████████████| 225/225 [00:33<00:00,  6.76batch/s]\n"
     ]
    },
    {
     "name": "stdout",
     "output_type": "stream",
     "text": [
      "Epoch [82/120], Train Loss: 0.6285, Train Accuracy: 77.18%, Test Loss: 1.1173, Test Accuracy: 62.13%\n"
     ]
    },
    {
     "name": "stderr",
     "output_type": "stream",
     "text": [
      "Epoch 83/120: 100%|████████████████████████████████████████| 898/898 [06:18<00:00,  2.38batch/s, acc=77.1, loss=0.406]\n",
      "Validating: 100%|████████████████████████████████████████████████████████████████| 225/225 [00:33<00:00,  6.76batch/s]\n"
     ]
    },
    {
     "name": "stdout",
     "output_type": "stream",
     "text": [
      "Epoch [83/120], Train Loss: 0.6257, Train Accuracy: 77.11%, Test Loss: 1.1153, Test Accuracy: 62.48%\n"
     ]
    },
    {
     "name": "stderr",
     "output_type": "stream",
     "text": [
      "Epoch 84/120: 100%|██████████████████████████████████████████| 898/898 [06:18<00:00,  2.37batch/s, acc=77, loss=0.587]\n",
      "Validating: 100%|████████████████████████████████████████████████████████████████| 225/225 [00:32<00:00,  6.85batch/s]\n"
     ]
    },
    {
     "name": "stdout",
     "output_type": "stream",
     "text": [
      "Epoch [84/120], Train Loss: 0.6304, Train Accuracy: 77.01%, Test Loss: 1.1138, Test Accuracy: 62.47%\n"
     ]
    },
    {
     "name": "stderr",
     "output_type": "stream",
     "text": [
      "Epoch 85/120: 100%|████████████████████████████████████████| 898/898 [06:20<00:00,  2.36batch/s, acc=76.9, loss=0.199]\n",
      "Validating: 100%|████████████████████████████████████████████████████████████████| 225/225 [00:33<00:00,  6.81batch/s]\n"
     ]
    },
    {
     "name": "stdout",
     "output_type": "stream",
     "text": [
      "Epoch [85/120], Train Loss: 0.6281, Train Accuracy: 76.86%, Test Loss: 1.1181, Test Accuracy: 62.57%\n"
     ]
    },
    {
     "name": "stderr",
     "output_type": "stream",
     "text": [
      "Epoch 86/120: 100%|████████████████████████████████████████| 898/898 [06:18<00:00,  2.37batch/s, acc=76.9, loss=0.183]\n",
      "Validating: 100%|████████████████████████████████████████████████████████████████| 225/225 [00:32<00:00,  6.83batch/s]\n"
     ]
    },
    {
     "name": "stdout",
     "output_type": "stream",
     "text": [
      "Epoch [86/120], Train Loss: 0.6292, Train Accuracy: 76.93%, Test Loss: 1.1090, Test Accuracy: 63.05%\n"
     ]
    },
    {
     "name": "stderr",
     "output_type": "stream",
     "text": [
      "Epoch 87/120: 100%|█████████████████████████████████████████| 898/898 [06:18<00:00,  2.37batch/s, acc=76.8, loss=1.53]\n",
      "Validating: 100%|████████████████████████████████████████████████████████████████| 225/225 [00:33<00:00,  6.73batch/s]\n"
     ]
    },
    {
     "name": "stdout",
     "output_type": "stream",
     "text": [
      "Epoch [87/120], Train Loss: 0.6317, Train Accuracy: 76.76%, Test Loss: 1.1156, Test Accuracy: 62.84%\n"
     ]
    },
    {
     "name": "stderr",
     "output_type": "stream",
     "text": [
      "Epoch 88/120: 100%|█████████████████████████████████████████| 898/898 [06:18<00:00,  2.37batch/s, acc=76.9, loss=0.53]\n",
      "Validating: 100%|████████████████████████████████████████████████████████████████| 225/225 [00:32<00:00,  6.89batch/s]\n"
     ]
    },
    {
     "name": "stdout",
     "output_type": "stream",
     "text": [
      "Epoch [88/120], Train Loss: 0.6277, Train Accuracy: 76.91%, Test Loss: 1.1165, Test Accuracy: 62.82%\n"
     ]
    },
    {
     "name": "stderr",
     "output_type": "stream",
     "text": [
      "Epoch 89/120: 100%|████████████████████████████████████████| 898/898 [06:19<00:00,  2.37batch/s, acc=76.7, loss=0.338]\n",
      "Validating: 100%|████████████████████████████████████████████████████████████████| 225/225 [00:32<00:00,  6.82batch/s]\n"
     ]
    },
    {
     "name": "stdout",
     "output_type": "stream",
     "text": [
      "Epoch [89/120], Train Loss: 0.6310, Train Accuracy: 76.70%, Test Loss: 1.1093, Test Accuracy: 62.97%\n"
     ]
    },
    {
     "name": "stderr",
     "output_type": "stream",
     "text": [
      "Epoch 90/120: 100%|████████████████████████████████████████| 898/898 [06:18<00:00,  2.37batch/s, acc=76.9, loss=0.508]\n",
      "Validating: 100%|████████████████████████████████████████████████████████████████| 225/225 [00:33<00:00,  6.69batch/s]\n"
     ]
    },
    {
     "name": "stdout",
     "output_type": "stream",
     "text": [
      "Epoch [90/120], Train Loss: 0.6311, Train Accuracy: 76.90%, Test Loss: 1.1030, Test Accuracy: 62.98%\n"
     ]
    },
    {
     "name": "stderr",
     "output_type": "stream",
     "text": [
      "Epoch 91/120: 100%|████████████████████████████████████████| 898/898 [06:17<00:00,  2.38batch/s, acc=76.8, loss=0.548]\n",
      "Validating: 100%|████████████████████████████████████████████████████████████████| 225/225 [00:33<00:00,  6.76batch/s]\n"
     ]
    },
    {
     "name": "stdout",
     "output_type": "stream",
     "text": [
      "Epoch [91/120], Train Loss: 0.6320, Train Accuracy: 76.76%, Test Loss: 1.1102, Test Accuracy: 62.52%\n"
     ]
    },
    {
     "name": "stderr",
     "output_type": "stream",
     "text": [
      "Epoch 92/120: 100%|████████████████████████████████████████| 898/898 [06:18<00:00,  2.38batch/s, acc=77.4, loss=0.751]\n",
      "Validating: 100%|████████████████████████████████████████████████████████████████| 225/225 [00:32<00:00,  6.84batch/s]\n"
     ]
    },
    {
     "name": "stdout",
     "output_type": "stream",
     "text": [
      "Epoch [92/120], Train Loss: 0.6233, Train Accuracy: 77.38%, Test Loss: 1.1071, Test Accuracy: 62.59%\n"
     ]
    },
    {
     "name": "stderr",
     "output_type": "stream",
     "text": [
      "Epoch 93/120: 100%|████████████████████████████████████████| 898/898 [06:18<00:00,  2.37batch/s, acc=77.1, loss=0.759]\n",
      "Validating: 100%|████████████████████████████████████████████████████████████████| 225/225 [00:33<00:00,  6.74batch/s]\n"
     ]
    },
    {
     "name": "stdout",
     "output_type": "stream",
     "text": [
      "Epoch [93/120], Train Loss: 0.6240, Train Accuracy: 77.09%, Test Loss: 1.1182, Test Accuracy: 62.32%\n"
     ]
    },
    {
     "name": "stderr",
     "output_type": "stream",
     "text": [
      "Epoch 94/120: 100%|████████████████████████████████████████| 898/898 [06:18<00:00,  2.37batch/s, acc=77.1, loss=0.566]\n",
      "Validating: 100%|████████████████████████████████████████████████████████████████| 225/225 [00:33<00:00,  6.81batch/s]\n"
     ]
    },
    {
     "name": "stdout",
     "output_type": "stream",
     "text": [
      "Epoch [94/120], Train Loss: 0.6279, Train Accuracy: 77.09%, Test Loss: 1.1171, Test Accuracy: 62.47%\n"
     ]
    },
    {
     "name": "stderr",
     "output_type": "stream",
     "text": [
      "Epoch 95/120: 100%|██████████████████████████████████████████| 898/898 [06:17<00:00,  2.38batch/s, acc=77, loss=0.291]\n",
      "Validating: 100%|████████████████████████████████████████████████████████████████| 225/225 [00:32<00:00,  6.90batch/s]\n"
     ]
    },
    {
     "name": "stdout",
     "output_type": "stream",
     "text": [
      "Epoch [95/120], Train Loss: 0.6287, Train Accuracy: 77.01%, Test Loss: 1.1157, Test Accuracy: 62.68%\n"
     ]
    },
    {
     "name": "stderr",
     "output_type": "stream",
     "text": [
      "Epoch 96/120: 100%|████████████████████████████████████████| 898/898 [06:17<00:00,  2.38batch/s, acc=77.1, loss=0.397]\n",
      "Validating: 100%|████████████████████████████████████████████████████████████████| 225/225 [00:33<00:00,  6.80batch/s]\n"
     ]
    },
    {
     "name": "stdout",
     "output_type": "stream",
     "text": [
      "Epoch [96/120], Train Loss: 0.6224, Train Accuracy: 77.06%, Test Loss: 1.1111, Test Accuracy: 62.75%\n"
     ]
    },
    {
     "name": "stderr",
     "output_type": "stream",
     "text": [
      "Epoch 97/120: 100%|████████████████████████████████████████| 898/898 [06:17<00:00,  2.38batch/s, acc=77.1, loss=0.693]\n",
      "Validating: 100%|████████████████████████████████████████████████████████████████| 225/225 [00:33<00:00,  6.77batch/s]\n"
     ]
    },
    {
     "name": "stdout",
     "output_type": "stream",
     "text": [
      "Epoch [97/120], Train Loss: 0.6263, Train Accuracy: 77.09%, Test Loss: 1.1202, Test Accuracy: 62.04%\n"
     ]
    },
    {
     "name": "stderr",
     "output_type": "stream",
     "text": [
      "Epoch 98/120: 100%|████████████████████████████████████████| 898/898 [06:22<00:00,  2.35batch/s, acc=76.8, loss=0.894]\n",
      "Validating: 100%|████████████████████████████████████████████████████████████████| 225/225 [00:32<00:00,  6.83batch/s]\n"
     ]
    },
    {
     "name": "stdout",
     "output_type": "stream",
     "text": [
      "Epoch [98/120], Train Loss: 0.6279, Train Accuracy: 76.82%, Test Loss: 1.1052, Test Accuracy: 62.76%\n"
     ]
    },
    {
     "name": "stderr",
     "output_type": "stream",
     "text": [
      "Epoch 99/120: 100%|████████████████████████████████████████| 898/898 [06:21<00:00,  2.36batch/s, acc=76.7, loss=0.853]\n",
      "Validating: 100%|████████████████████████████████████████████████████████████████| 225/225 [00:33<00:00,  6.73batch/s]\n"
     ]
    },
    {
     "name": "stdout",
     "output_type": "stream",
     "text": [
      "Epoch [99/120], Train Loss: 0.6282, Train Accuracy: 76.73%, Test Loss: 1.1157, Test Accuracy: 62.13%\n"
     ]
    },
    {
     "name": "stderr",
     "output_type": "stream",
     "text": [
      "Epoch 100/120: 100%|███████████████████████████████████████| 898/898 [06:18<00:00,  2.37batch/s, acc=76.8, loss=0.783]\n",
      "Validating: 100%|████████████████████████████████████████████████████████████████| 225/225 [00:32<00:00,  6.88batch/s]\n"
     ]
    },
    {
     "name": "stdout",
     "output_type": "stream",
     "text": [
      "Epoch [100/120], Train Loss: 0.6321, Train Accuracy: 76.78%, Test Loss: 1.1023, Test Accuracy: 62.33%\n"
     ]
    },
    {
     "name": "stderr",
     "output_type": "stream",
     "text": [
      "Epoch 101/120: 100%|███████████████████████████████████████| 898/898 [06:19<00:00,  2.37batch/s, acc=76.8, loss=0.804]\n",
      "Validating: 100%|████████████████████████████████████████████████████████████████| 225/225 [00:32<00:00,  6.88batch/s]\n"
     ]
    },
    {
     "name": "stdout",
     "output_type": "stream",
     "text": [
      "Epoch [101/120], Train Loss: 0.6305, Train Accuracy: 76.75%, Test Loss: 1.1167, Test Accuracy: 62.55%\n"
     ]
    },
    {
     "name": "stderr",
     "output_type": "stream",
     "text": [
      "Epoch 102/120: 100%|███████████████████████████████████████| 898/898 [06:19<00:00,  2.36batch/s, acc=76.9, loss=0.348]\n",
      "Validating: 100%|████████████████████████████████████████████████████████████████| 225/225 [00:33<00:00,  6.76batch/s]\n"
     ]
    },
    {
     "name": "stdout",
     "output_type": "stream",
     "text": [
      "Epoch [102/120], Train Loss: 0.6250, Train Accuracy: 76.89%, Test Loss: 1.1135, Test Accuracy: 62.58%\n"
     ]
    },
    {
     "name": "stderr",
     "output_type": "stream",
     "text": [
      "Epoch 103/120: 100%|█████████████████████████████████████████| 898/898 [06:18<00:00,  2.37batch/s, acc=77, loss=0.108]\n",
      "Validating: 100%|████████████████████████████████████████████████████████████████| 225/225 [00:32<00:00,  6.85batch/s]\n"
     ]
    },
    {
     "name": "stdout",
     "output_type": "stream",
     "text": [
      "Epoch [103/120], Train Loss: 0.6305, Train Accuracy: 77.03%, Test Loss: 1.1124, Test Accuracy: 62.93%\n"
     ]
    },
    {
     "name": "stderr",
     "output_type": "stream",
     "text": [
      "Epoch 104/120: 100%|███████████████████████████████████████| 898/898 [06:18<00:00,  2.37batch/s, acc=76.9, loss=0.654]\n",
      "Validating: 100%|████████████████████████████████████████████████████████████████| 225/225 [00:33<00:00,  6.70batch/s]\n"
     ]
    },
    {
     "name": "stdout",
     "output_type": "stream",
     "text": [
      "Epoch [104/120], Train Loss: 0.6262, Train Accuracy: 76.92%, Test Loss: 1.1054, Test Accuracy: 62.55%\n"
     ]
    },
    {
     "name": "stderr",
     "output_type": "stream",
     "text": [
      "Epoch 105/120: 100%|█████████████████████████████████████████| 898/898 [06:17<00:00,  2.38batch/s, acc=77, loss=0.179]\n",
      "Validating: 100%|████████████████████████████████████████████████████████████████| 225/225 [00:32<00:00,  6.82batch/s]\n"
     ]
    },
    {
     "name": "stdout",
     "output_type": "stream",
     "text": [
      "Epoch [105/120], Train Loss: 0.6251, Train Accuracy: 76.97%, Test Loss: 1.1114, Test Accuracy: 62.52%\n"
     ]
    },
    {
     "name": "stderr",
     "output_type": "stream",
     "text": [
      "Epoch 106/120: 100%|████████████████████████████████████████| 898/898 [06:16<00:00,  2.38batch/s, acc=76.8, loss=1.63]\n",
      "Validating: 100%|████████████████████████████████████████████████████████████████| 225/225 [00:33<00:00,  6.77batch/s]\n"
     ]
    },
    {
     "name": "stdout",
     "output_type": "stream",
     "text": [
      "Epoch [106/120], Train Loss: 0.6304, Train Accuracy: 76.85%, Test Loss: 1.1136, Test Accuracy: 62.40%\n"
     ]
    },
    {
     "name": "stderr",
     "output_type": "stream",
     "text": [
      "Epoch 107/120: 100%|███████████████████████████████████████| 898/898 [06:17<00:00,  2.38batch/s, acc=77.3, loss=0.353]\n",
      "Validating: 100%|████████████████████████████████████████████████████████████████| 225/225 [00:32<00:00,  6.82batch/s]\n"
     ]
    },
    {
     "name": "stdout",
     "output_type": "stream",
     "text": [
      "Epoch [107/120], Train Loss: 0.6225, Train Accuracy: 77.26%, Test Loss: 1.1094, Test Accuracy: 62.48%\n"
     ]
    },
    {
     "name": "stderr",
     "output_type": "stream",
     "text": [
      "Epoch 108/120: 100%|███████████████████████████████████████| 898/898 [06:17<00:00,  2.38batch/s, acc=76.8, loss=0.735]\n",
      "Validating: 100%|████████████████████████████████████████████████████████████████| 225/225 [00:33<00:00,  6.72batch/s]\n"
     ]
    },
    {
     "name": "stdout",
     "output_type": "stream",
     "text": [
      "Epoch [108/120], Train Loss: 0.6314, Train Accuracy: 76.83%, Test Loss: 1.1115, Test Accuracy: 62.51%\n"
     ]
    },
    {
     "name": "stderr",
     "output_type": "stream",
     "text": [
      "Epoch 109/120: 100%|████████████████████████████████████████| 898/898 [06:17<00:00,  2.38batch/s, acc=76.9, loss=0.97]\n",
      "Validating: 100%|████████████████████████████████████████████████████████████████| 225/225 [00:33<00:00,  6.77batch/s]\n"
     ]
    },
    {
     "name": "stdout",
     "output_type": "stream",
     "text": [
      "Epoch [109/120], Train Loss: 0.6331, Train Accuracy: 76.86%, Test Loss: 1.1092, Test Accuracy: 62.89%\n"
     ]
    },
    {
     "name": "stderr",
     "output_type": "stream",
     "text": [
      "Epoch 110/120: 100%|███████████████████████████████████████| 898/898 [06:18<00:00,  2.37batch/s, acc=76.7, loss=0.256]\n",
      "Validating: 100%|████████████████████████████████████████████████████████████████| 225/225 [00:33<00:00,  6.78batch/s]\n"
     ]
    },
    {
     "name": "stdout",
     "output_type": "stream",
     "text": [
      "Epoch [110/120], Train Loss: 0.6306, Train Accuracy: 76.68%, Test Loss: 1.1142, Test Accuracy: 62.51%\n"
     ]
    },
    {
     "name": "stderr",
     "output_type": "stream",
     "text": [
      "Epoch 111/120: 100%|█████████████████████████████████████████| 898/898 [06:18<00:00,  2.37batch/s, acc=77, loss=0.558]\n",
      "Validating: 100%|████████████████████████████████████████████████████████████████| 225/225 [00:32<00:00,  6.85batch/s]\n"
     ]
    },
    {
     "name": "stdout",
     "output_type": "stream",
     "text": [
      "Epoch [111/120], Train Loss: 0.6253, Train Accuracy: 77.02%, Test Loss: 1.1122, Test Accuracy: 63.03%\n"
     ]
    },
    {
     "name": "stderr",
     "output_type": "stream",
     "text": [
      "Epoch 112/120: 100%|█████████████████████████████████████████| 898/898 [06:17<00:00,  2.38batch/s, acc=77, loss=0.532]\n",
      "Validating: 100%|████████████████████████████████████████████████████████████████| 225/225 [00:32<00:00,  6.88batch/s]\n"
     ]
    },
    {
     "name": "stdout",
     "output_type": "stream",
     "text": [
      "Epoch [112/120], Train Loss: 0.6324, Train Accuracy: 77.01%, Test Loss: 1.1085, Test Accuracy: 63.00%\n"
     ]
    },
    {
     "name": "stderr",
     "output_type": "stream",
     "text": [
      "Epoch 113/120: 100%|███████████████████████████████████████| 898/898 [06:16<00:00,  2.39batch/s, acc=76.7, loss=0.273]\n",
      "Validating: 100%|████████████████████████████████████████████████████████████████| 225/225 [00:32<00:00,  6.89batch/s]\n"
     ]
    },
    {
     "name": "stdout",
     "output_type": "stream",
     "text": [
      "Epoch [113/120], Train Loss: 0.6286, Train Accuracy: 76.67%, Test Loss: 1.1120, Test Accuracy: 62.65%\n"
     ]
    },
    {
     "name": "stderr",
     "output_type": "stream",
     "text": [
      "Epoch 114/120: 100%|█████████████████████████████████████████| 898/898 [06:15<00:00,  2.39batch/s, acc=77, loss=0.217]\n",
      "Validating: 100%|████████████████████████████████████████████████████████████████| 225/225 [00:33<00:00,  6.79batch/s]\n"
     ]
    },
    {
     "name": "stdout",
     "output_type": "stream",
     "text": [
      "Epoch [114/120], Train Loss: 0.6279, Train Accuracy: 77.02%, Test Loss: 1.1128, Test Accuracy: 62.11%\n"
     ]
    },
    {
     "name": "stderr",
     "output_type": "stream",
     "text": [
      "Epoch 115/120: 100%|████████████████████████████████████████| 898/898 [06:15<00:00,  2.39batch/s, acc=77.2, loss=1.24]\n",
      "Validating: 100%|████████████████████████████████████████████████████████████████| 225/225 [00:32<00:00,  6.83batch/s]\n"
     ]
    },
    {
     "name": "stdout",
     "output_type": "stream",
     "text": [
      "Epoch [115/120], Train Loss: 0.6253, Train Accuracy: 77.15%, Test Loss: 1.1092, Test Accuracy: 62.83%\n"
     ]
    },
    {
     "name": "stderr",
     "output_type": "stream",
     "text": [
      "Epoch 116/120: 100%|███████████████████████████████████████| 898/898 [06:26<00:00,  2.33batch/s, acc=77.2, loss=0.568]\n",
      "Validating: 100%|████████████████████████████████████████████████████████████████| 225/225 [00:33<00:00,  6.75batch/s]\n"
     ]
    },
    {
     "name": "stdout",
     "output_type": "stream",
     "text": [
      "Epoch [116/120], Train Loss: 0.6233, Train Accuracy: 77.18%, Test Loss: 1.1225, Test Accuracy: 62.64%\n"
     ]
    },
    {
     "name": "stderr",
     "output_type": "stream",
     "text": [
      "Epoch 117/120: 100%|█████████████████████████████████████████| 898/898 [06:09<00:00,  2.43batch/s, acc=77, loss=0.658]\n",
      "Validating: 100%|████████████████████████████████████████████████████████████████| 225/225 [00:32<00:00,  6.98batch/s]\n"
     ]
    },
    {
     "name": "stdout",
     "output_type": "stream",
     "text": [
      "Epoch [117/120], Train Loss: 0.6250, Train Accuracy: 77.00%, Test Loss: 1.1079, Test Accuracy: 62.34%\n"
     ]
    },
    {
     "name": "stderr",
     "output_type": "stream",
     "text": [
      "Epoch 118/120: 100%|████████████████████████████████████████| 898/898 [06:16<00:00,  2.38batch/s, acc=77, loss=0.0983]\n",
      "Validating: 100%|████████████████████████████████████████████████████████████████| 225/225 [00:33<00:00,  6.63batch/s]\n"
     ]
    },
    {
     "name": "stdout",
     "output_type": "stream",
     "text": [
      "Epoch [118/120], Train Loss: 0.6244, Train Accuracy: 76.97%, Test Loss: 1.1155, Test Accuracy: 62.71%\n"
     ]
    },
    {
     "name": "stderr",
     "output_type": "stream",
     "text": [
      "Epoch 119/120: 100%|████████████████████████████████████████| 898/898 [06:19<00:00,  2.36batch/s, acc=77.2, loss=1.53]\n",
      "Validating: 100%|████████████████████████████████████████████████████████████████| 225/225 [00:33<00:00,  6.73batch/s]\n"
     ]
    },
    {
     "name": "stdout",
     "output_type": "stream",
     "text": [
      "Epoch [119/120], Train Loss: 0.6226, Train Accuracy: 77.24%, Test Loss: 1.1098, Test Accuracy: 62.48%\n"
     ]
    },
    {
     "name": "stderr",
     "output_type": "stream",
     "text": [
      "Epoch 120/120: 100%|███████████████████████████████████████| 898/898 [06:20<00:00,  2.36batch/s, acc=76.8, loss=0.577]\n",
      "Validating: 100%|████████████████████████████████████████████████████████████████| 225/225 [00:32<00:00,  6.84batch/s]\n"
     ]
    },
    {
     "name": "stdout",
     "output_type": "stream",
     "text": [
      "Epoch [120/120], Train Loss: 0.6293, Train Accuracy: 76.84%, Test Loss: 1.1100, Test Accuracy: 62.61%\n"
     ]
    },
    {
     "data": {
      "image/png": "[encoded data removed]",
      "text/plain": [
       "<Figure size 1200x400 with 2 Axes>"
      ]
     },
     "metadata": {},
     "output_type": "display_data"
    },
    {
     "name": "stdout",
     "output_type": "stream",
     "text": [
      "Model saved to shallow_cnn_emotion_model_120epochs.pth\n",
      "CPU times: total: 3d 9h 1min 49s\n",
      "Wall time: 15h 18min 9s\n"
     ]
    }
   ],
   "source": [
    "%%time\n",
    "# Define the shallow CNN model class\n",
    "class ShallowCNN(nn.Module):\n",
    "    def __init__(self):\n",
    "        super(ShallowCNN, self).__init__()\n",
    "        \n",
    "        # First convolutional layer: input channels = 1 (grayscale image), output channels = 32, kernel size = 3x3\n",
    "        self.conv1 = nn.Conv2d(in_channels=1, out_channels=32, kernel_size=3, stride=1, padding=0)\n",
    "        \n",
    "        # Second convolutional layer: input channels = 32, output channels = 64, kernel size = 3x3\n",
    "        self.conv2 = nn.Conv2d(in_channels=32, out_channels=64, kernel_size=3, stride=1, padding=0)\n",
    "        \n",
    "        # Third convolutional layer: input channels = 64, output channels = 128, kernel size = 3x3\n",
    "        self.conv3 = nn.Conv2d(in_channels=64, out_channels=128, kernel_size=3, stride=1, padding=0)\n",
    "        \n",
    "        # Fourth convolutional layer: input channels = 128, output channels = 256, kernel size = 3x3\n",
    "        self.conv4 = nn.Conv2d(in_channels=128, out_channels=256, kernel_size=3, stride=1, padding=0)\n",
    "        \n",
    "        # MaxPooling layer: kernel size = 2x2, stride = 2\n",
    "        self.pool = nn.MaxPool2d(kernel_size=2, stride=2, padding=0)\n",
    "        \n",
    "        # Fully connected layer: input features = 256 * 4 * 4, output features = 512\n",
    "        self.fc1 = nn.Linear(256 * 4 * 4, 512)\n",
    "        \n",
    "        # Fully connected output layer: input features = 512, output features = 7 (number of classes)\n",
    "        self.fc2 = nn.Linear(512, 7)\n",
    "        \n",
    "        # Dropout layer: dropout probability = 0.5\n",
    "        self.dropout = nn.Dropout(p=0.5)\n",
    "    \n",
    "    # Define the forward pass\n",
    "    def forward(self, x):\n",
    "        # Apply first convolutional layer and ReLU activation\n",
    "        x = F.relu(self.conv1(x))\n",
    "        \n",
    "        # Apply second convolutional layer and ReLU activation\n",
    "        x = F.relu(self.conv2(x))\n",
    "        \n",
    "        # Apply max-pooling layer\n",
    "        x = self.pool(x)\n",
    "        \n",
    "        # Apply third convolutional layer and ReLU activation\n",
    "        x = F.relu(self.conv3(x))\n",
    "        \n",
    "        # Apply second max-pooling layer\n",
    "        x = self.pool(x)\n",
    "        \n",
    "        # Apply fourth convolutional layer and ReLU activation\n",
    "        x = F.relu(self.conv4(x))\n",
    "        \n",
    "        # Apply third max-pooling layer\n",
    "        x = self.pool(x)\n",
    "        \n",
    "        # Flatten the tensor for the fully connected layer\n",
    "        # Reshape the tensor to be fed into a fully connected layer\n",
    "        # The -1 means PyTorch will infer the batch size automatically\n",
    "        x = x.view(-1, 256 * 4 * 4)\n",
    "        \n",
    "        # Apply first fully connected layer and ReLU activation\n",
    "        x = F.relu(self.fc1(x))\n",
    "        \n",
    "        # Apply dropout layer\n",
    "        x = self.dropout(x)\n",
    "        \n",
    "        # Apply output fully connected layer\n",
    "        x = self.fc2(x)\n",
    "        \n",
    "        return x\n",
    "\n",
    "# Instantiate the model\n",
    "model = ShallowCNN()\n",
    "\n",
    "# Print the model architecture\n",
    "print(model)\n",
    "\n",
    "import torch.optim as optim  # Import the optim module from PyTorch for optimizers\n",
    "from torch.optim.lr_scheduler import StepLR  # Import the learning rate scheduler\n",
    "\n",
    "# Check if GPU is available and set the device accordingly\n",
    "device = torch.device(\"cuda\" if torch.cuda.is_available() else \"cpu\")\n",
    "print(f\"Using device: {device}\")\n",
    "\n",
    "# Instantiate the model and move it to the device\n",
    "model = ShallowCNN().to(device)\n",
    "\n",
    "# Define the loss function and the optimizer\n",
    "criterion = nn.CrossEntropyLoss()  # Use CrossEntropyLoss for multi-class classification\n",
    "optimizer = optim.Adam(model.parameters(), lr=1e-4)  # Adam optimizer with learning rate 1e-4\n",
    "\n",
    "# Learning rate scheduler (optional)\n",
    "scheduler = StepLR(optimizer, step_size=30, gamma=0.1)  # Reduce learning rate by a factor of 0.1 every 30 epochs\n",
    "\n",
    "# Training loop\n",
    "num_epochs = 120  # Number of epochs to train\n",
    "train_losses = []  # List to store training losses\n",
    "test_losses = []  # List to store test losses\n",
    "train_accuracies = []  # List to store training accuracies\n",
    "test_accuracies = []  # List to store test accuracies\n",
    "\n",
    "for epoch in range(num_epochs):\n",
    "    model.train()  # Set the model to training mode\n",
    "    running_loss = 0.0  # Variable to track running loss\n",
    "    correct = 0  # Variable to track correct predictions\n",
    "    total = 0  # Variable to track total number of samples\n",
    "    \n",
    "    # Loop over the training data with progress bar\n",
    "    with tqdm(total=len(train_loader), desc=f'Epoch {epoch + 1}/{num_epochs}', unit='batch') as pbar:\n",
    "        for images, labels in train_loader:\n",
    "            images, labels = images.to(device), labels.to(device)  # Move images and labels to the device\n",
    "            \n",
    "            optimizer.zero_grad()  # Zero the parameter gradients\n",
    "            \n",
    "            outputs = model(images)  # Forward pass\n",
    "            \n",
    "            loss = criterion(outputs, labels)  # Calculate the loss\n",
    "            \n",
    "            loss.backward()  # Backward pass\n",
    "            optimizer.step()  # Update the weights\n",
    "            \n",
    "            running_loss += loss.item()  # Update running loss\n",
    "            \n",
    "            _, predicted = torch.max(outputs.data, 1)  # Get the predicted class\n",
    "            total += labels.size(0)  # Update total number of samples\n",
    "            correct += (predicted == labels).sum().item()  # Update correct predictions\n",
    "            \n",
    "            pbar.update(1)\n",
    "            pbar.set_postfix(loss=loss.item(), acc=100 * correct / total)\n",
    "    \n",
    "    train_loss = running_loss / len(train_loader)  # Calculate average training loss\n",
    "    train_accuracy = 100 * correct / total  # Calculate training accuracy\n",
    "    train_losses.append(train_loss)  # Append training loss to the list\n",
    "    train_accuracies.append(train_accuracy)  # Append training accuracy to the list\n",
    "    \n",
    "    model.eval()  # Set the model to evaluation mode\n",
    "    test_loss = 0.0  # Variable to track test loss\n",
    "    correct = 0  # Variable to track correct predictions\n",
    "    total = 0  # Variable to track total number of samples\n",
    "    \n",
    "    with torch.no_grad():  # Disable gradient calculation for validation\n",
    "        for images, labels in tqdm(test_loader, desc='Validating', unit='batch'):\n",
    "            images, labels = images.to(device), labels.to(device)  # Move images and labels to the device\n",
    "            \n",
    "            outputs = model(images)  # Forward pass\n",
    "            \n",
    "            loss = criterion(outputs, labels)  # Calculate the loss\n",
    "            test_loss += loss.item()  # Update test loss\n",
    "            \n",
    "            _, predicted = torch.max(outputs.data, 1)  # Get the predicted class\n",
    "            total += labels.size(0)  # Update total number of samples\n",
    "            correct += (predicted == labels).sum().item()  # Update correct predictions\n",
    "    \n",
    "    test_loss /= len(test_loader)  # Calculate average test loss\n",
    "    test_accuracy = 100 * correct / total  # Calculate test accuracy\n",
    "    test_losses.append(test_loss)  # Append test loss to the list\n",
    "    test_accuracies.append(test_accuracy)  # Append test accuracy to the list\n",
    "    \n",
    "    scheduler.step()  # Step the learning rate scheduler\n",
    "    \n",
    "    print(f'Epoch [{epoch + 1}/{num_epochs}], Train Loss: {train_loss:.4f}, Train Accuracy: {train_accuracy:.2f}%, Test Loss: {test_loss:.4f}, Test Accuracy: {test_accuracy:.2f}%')\n",
    "\n",
    "# Plotting training and validation loss and accuracy\n",
    "plt.figure(figsize=(12, 4))  # Create a figure with a specific size\n",
    "plt.subplot(1, 2, 1)  # Create a subplot (1 row, 2 columns, 1st subplot)\n",
    "plt.plot(train_losses, label='Train Loss')  # Plot training losses\n",
    "plt.plot(test_losses, label='Test Loss')  # Plot test losses\n",
    "plt.xlabel('Epoch')  # Label for x-axis\n",
    "plt.ylabel('Loss')  # Label for y-axis\n",
    "plt.legend()  # Show legend\n",
    "plt.title('Loss vs. Epochs')  # Title of the plot\n",
    "\n",
    "plt.subplot(1, 2, 2)  # Create a subplot (1 row, 2 columns, 2nd subplot)\n",
    "plt.plot(train_accuracies, label='Train Accuracy')  # Plot training accuracies\n",
    "plt.plot(test_accuracies, label='Test Accuracy')  # Plot test accuracies\n",
    "plt.xlabel('Epoch')  # Label for x-axis\n",
    "plt.ylabel('Accuracy')  # Label for y-axis\n",
    "plt.legend()  # Show legend\n",
    "plt.title('Accuracy vs. Epochs')  # Title of the plot\n",
    "\n",
    "plt.show()  # Show the plot\n",
    "\n",
    "# Define the path where you want to save the model\n",
    "model_save_path = \"shallow_cnn_emotion_model_120epochs.pth\"\n",
    "\n",
    "# Save the model's state dictionary\n",
    "torch.save(model.state_dict(), model_save_path)\n",
    "\n",
    "print(f\"Model saved to {model_save_path}\")\n"
   ]
  },
  {
   "cell_type": "code",
   "execution_count": null,
   "id": "e9d7c530",
   "metadata": {},
   "outputs": [],
   "source": []
  }
 ],
 "metadata": {
  "kernelspec": {
   "display_name": "hcnn",
   "language": "python",
   "name": "hcnn"
  },
  "language_info": {
   "codemirror_mode": {
    "name": "ipython",
    "version": 3
   },
   "file_extension": ".py",
   "mimetype": "text/x-python",
   "name": "python",
   "nbconvert_exporter": "python",
   "pygments_lexer": "ipython3",
   "version": "3.9.19"
  }
 },
 "nbformat": 4,
 "nbformat_minor": 5
}
